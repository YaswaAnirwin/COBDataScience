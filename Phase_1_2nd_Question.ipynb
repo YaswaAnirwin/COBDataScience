{
  "nbformat": 4,
  "nbformat_minor": 0,
  "metadata": {
    "colab": {
      "provenance": []
    },
    "kernelspec": {
      "name": "python3",
      "display_name": "Python 3"
    },
    "language_info": {
      "name": "python"
    }
  },
  "cells": [
    {
      "cell_type": "code",
      "execution_count": null,
      "metadata": {
        "id": "eCe6A6dSsmMF"
      },
      "outputs": [],
      "source": [
        "#2nd Answer\n",
        "\n",
        "import pandas as pd\n",
        "import numpy as np\n",
        "from scipy import stats\n",
        "import gdown\n",
        "df = pd.read_csv('dataset - netflix1.csv')\n",
        "# Handle missing values (fill with mean of respective columns)\n",
        "df.fillna(df.mean(), inplace=True)\n",
        "# Remove outliers (using Z-score method for numeric columns)\n",
        "z_scores = np.abs(stats.zscore(df.select_dtypes(include=[np.number])))\n",
        "threshold = 3  # Define a threshold for Z-scores\n",
        "df_no_outliers = df[(z_scores < threshold).all(axis=1)]\n",
        "# Print the cleaned DataFrame\n",
        "print(\"Cleaned DataFrame:\")\n",
        "print(df_no_outliers)\n",
        "# Save the cleaned DataFrame to a new CSV file\n",
        "df_no_outliers.to_csv(\"cleaned_dataset.csv\", index=False)"
      ]
    }
  ]
}