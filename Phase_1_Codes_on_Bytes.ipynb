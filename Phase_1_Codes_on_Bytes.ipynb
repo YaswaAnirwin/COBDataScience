{
  "nbformat": 4,
  "nbformat_minor": 0,
  "metadata": {
    "colab": {
      "provenance": [],
      "authorship_tag": "ABX9TyNPO6hJz2QV7mEtMqKxKQnd",
      "include_colab_link": true
    },
    "kernelspec": {
      "name": "python3",
      "display_name": "Python 3"
    },
    "language_info": {
      "name": "python"
    }
  },
  "cells": [
    {
      "cell_type": "markdown",
      "metadata": {
        "id": "view-in-github",
        "colab_type": "text"
      },
      "source": [
        "<a href=\"https://colab.research.google.com/github/YaswaAnirwin/COBDataScience/blob/main/Phase_1_Codes_on_Bytes.ipynb\" target=\"_parent\"><img src=\"https://colab.research.google.com/assets/colab-badge.svg\" alt=\"Open In Colab\"/></a>"
      ]
    },
    {
      "cell_type": "code",
      "source": [
        "#2nd Answer\n",
        "\n",
        "import pandas as pd\n",
        "import numpy as np\n",
        "from scipy import stats\n",
        "import gdown\n",
        "df = pd.read_csv('dataset - netflix1.csv')\n",
        "# Handle missing values (fill with mean of respective columns)\n",
        "df.fillna(df.mean(), inplace=True)\n",
        "# Remove outliers (using Z-score method for numeric columns)\n",
        "z_scores = np.abs(stats.zscore(df.select_dtypes(include=[np.number])))\n",
        "threshold = 3  # Define a threshold for Z-scores\n",
        "df_no_outliers = df[(z_scores < threshold).all(axis=1)]\n",
        "# Print the cleaned DataFrame\n",
        "print(\"Cleaned DataFrame:\")\n",
        "print(df_no_outliers)\n",
        "# Save the cleaned DataFrame to a new CSV file\n",
        "df_no_outliers.to_csv(\"cleaned_dataset.csv\", index=False)"
      ],
      "metadata": {
        "colab": {
          "base_uri": "https://localhost:8080/"
        },
        "id": "J9WGrH2C_YNU",
        "outputId": "9043bff8-4c47-4751-deb1-69f8e5022516"
      },
      "execution_count": 14,
      "outputs": [
        {
          "output_type": "stream",
          "name": "stdout",
          "text": [
            "Cleaned DataFrame:\n",
            "     show_id     type                             title         director  \\\n",
            "0         s1    Movie              Dick Johnson Is Dead  Kirsten Johnson   \n",
            "1         s3  TV Show                         Ganglands  Julien Leclercq   \n",
            "2         s6  TV Show                     Midnight Mass    Mike Flanagan   \n",
            "3        s14    Movie  Confessions of an Invisible Girl    Bruno Garotti   \n",
            "4         s8    Movie                           Sankofa     Haile Gerima   \n",
            "...      ...      ...                               ...              ...   \n",
            "8785   s8797  TV Show                        Yunus Emre        Not Given   \n",
            "8786   s8798  TV Show                         Zak Storm        Not Given   \n",
            "8787   s8801  TV Show                Zindagi Gulzar Hai        Not Given   \n",
            "8788   s8784  TV Show                              Yoko        Not Given   \n",
            "8789   s8786  TV Show                               YOM        Not Given   \n",
            "\n",
            "            country  date_added  release_year rating   duration  \\\n",
            "0     United States   9/25/2021          2020  PG-13     90 min   \n",
            "1            France   9/24/2021          2021  TV-MA   1 Season   \n",
            "2     United States   9/24/2021          2021  TV-MA   1 Season   \n",
            "3            Brazil   9/22/2021          2021  TV-PG     91 min   \n",
            "4     United States   9/24/2021          1993  TV-MA    125 min   \n",
            "...             ...         ...           ...    ...        ...   \n",
            "8785         Turkey   1/17/2017          2016  TV-PG  2 Seasons   \n",
            "8786  United States   9/13/2018          2016  TV-Y7  3 Seasons   \n",
            "8787       Pakistan  12/15/2016          2012  TV-PG   1 Season   \n",
            "8788       Pakistan   6/23/2018          2016   TV-Y   1 Season   \n",
            "8789       Pakistan    6/7/2018          2016  TV-Y7   1 Season   \n",
            "\n",
            "                                              listed_in  \n",
            "0                                         Documentaries  \n",
            "1     Crime TV Shows, International TV Shows, TV Act...  \n",
            "2                    TV Dramas, TV Horror, TV Mysteries  \n",
            "3                    Children & Family Movies, Comedies  \n",
            "4      Dramas, Independent Movies, International Movies  \n",
            "...                                                 ...  \n",
            "8785                  International TV Shows, TV Dramas  \n",
            "8786                                           Kids' TV  \n",
            "8787  International TV Shows, Romantic TV Shows, TV ...  \n",
            "8788                                           Kids' TV  \n",
            "8789                                           Kids' TV  \n",
            "\n",
            "[8573 rows x 10 columns]\n"
          ]
        },
        {
          "output_type": "stream",
          "name": "stderr",
          "text": [
            "<ipython-input-14-9267820107ae>:7: FutureWarning: The default value of numeric_only in DataFrame.mean is deprecated. In a future version, it will default to False. In addition, specifying 'numeric_only=None' is deprecated. Select only valid columns or specify the value of numeric_only to silence this warning.\n",
            "  df.fillna(df.mean(), inplace=True)\n"
          ]
        }
      ]
    }
  ]
}