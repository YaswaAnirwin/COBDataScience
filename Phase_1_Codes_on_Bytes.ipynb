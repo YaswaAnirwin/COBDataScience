{
  "nbformat": 4,
  "nbformat_minor": 0,
  "metadata": {
    "colab": {
      "provenance": []
    },
    "kernelspec": {
      "name": "python3",
      "display_name": "Python 3"
    },
    "language_info": {
      "name": "python"
    }
  },
  "cells": [
    {
      "cell_type": "code",
      "source": [
        "import IPython\n",
        "from IPython.display import display, HTML\n",
        "\n",
        "# Increase the IOPub data rate limit to 10 MB/s\n",
        "display(HTML('''\n",
        "<script>\n",
        "function setNotebookOptions() {\n",
        "  var notebook = Jupyter.notebook;\n",
        "  var rate_limit = 1e7;  // Set the desired rate limit in bytes per second (e.g., 10 MB/s)\n",
        "  notebook.kernel.execute(\"from IPython.core.interactiveshell import InteractiveShell\\nInteractiveShell.ast_node_interactivity = 'all'\\n\");\n",
        "  notebook.kernel.execute(\"import sys\\nsys.stdout._flush = lambda: None\\n\");\n",
        "  notebook.kernel.execute(\"import IPython\\nIPython.get_ipython().kernel.do_one_iteration = function(){ return 0; }\\n\");\n",
        "  notebook.kernel.execute(\"IPython.get_ipython().kernel._allow_stdin = true\\n\");\n",
        "  notebook.kernel.execute(\"IPython.OutputArea.prototype._should_scroll = function(){return false;}\\n\");\n",
        "  notebook.kernel.execute(\"var rate_limit = \" + rate_limit + \";\\n\");\n",
        "  notebook.kernel.execute(\"var comm_manager = IPython.notebook.kernel.comm_manager;\\n\");\n",
        "  notebook.kernel.execute(\"var rate_limiter = function(comm, msg){\\n\"\n",
        "                          \"    var handler = function(msg){\\n\"\n",
        "                          \"        var raw_msg = msg.msg_content.content.data;\\n\"\n",
        "                          \"        var data = new DataView(raw_msg.buffer);\\n\"\n",
        "                          \"        var rate_start_time = data.getFloat64(0, true);\\n\"\n",
        "                          \"        var rate_end_time = data.getFloat64(8, true);\\n\"\n",
        "                          \"        var data_length = raw_msg.length - 16;\\n\"\n",
        "                          \"        var rate = (data_length / (rate_end_time - rate_start_time));\\n\"\n",
        "                          \"        if (rate > rate_limit){\\n\"\n",
        "                          \"            comm.kernel.execute('IPython.get_ipython().kernel.do_one_iteration = function(){ return 0; }');\\n\"\n",
        "                          \"            comm.kernel.execute('IPython.get_ipython().kernel._allow_stdin = true');\\n\"\n",
        "                          \"        }\\n\"\n",
        "                          \"        else{\\n\"\n",
        "                          \"            comm.kernel.execute('IPython.get_ipython().kernel.do_one_iteration = undefined;');\\n\"\n",
        "                          \"            comm.kernel.execute('IPython.get_ipython().kernel._allow_stdin = false');\\n\"\n",
        "                          \"        }\\n\"\n",
        "                          \"    }\\n\"\n",
        "                          \"    comm.on_msg(handler);\\n\"\n",
        "                          \"};\\n\"\n",
        "                          \"comm_manager.register_target('rate_limiter', rate_limiter);\\n\");\n",
        "}\n",
        "\n",
        "setNotebookOptions();\n",
        "</script>\n",
        "'''))\n"
      ],
      "metadata": {
        "colab": {
          "base_uri": "https://localhost:8080/",
          "height": 17
        },
        "id": "Ad1ibOhrlfr5",
        "outputId": "8367f76c-9432-4a95-b988-b9518ffb0334"
      },
      "execution_count": 10,
      "outputs": [
        {
          "output_type": "display_data",
          "data": {
            "text/plain": [
              "<IPython.core.display.HTML object>"
            ],
            "text/html": [
              "\n",
              "<script>\n",
              "function setNotebookOptions() {\n",
              "  var notebook = Jupyter.notebook;\n",
              "  var rate_limit = 1e7;  // Set the desired rate limit in bytes per second (e.g., 10 MB/s)\n",
              "  notebook.kernel.execute(\"from IPython.core.interactiveshell import InteractiveShell\n",
              "InteractiveShell.ast_node_interactivity = 'all'\n",
              "\");\n",
              "  notebook.kernel.execute(\"import sys\n",
              "sys.stdout._flush = lambda: None\n",
              "\");\n",
              "  notebook.kernel.execute(\"import IPython\n",
              "IPython.get_ipython().kernel.do_one_iteration = function(){ return 0; }\n",
              "\");\n",
              "  notebook.kernel.execute(\"IPython.get_ipython().kernel._allow_stdin = true\n",
              "\");\n",
              "  notebook.kernel.execute(\"IPython.OutputArea.prototype._should_scroll = function(){return false;}\n",
              "\");\n",
              "  notebook.kernel.execute(\"var rate_limit = \" + rate_limit + \";\n",
              "\");\n",
              "  notebook.kernel.execute(\"var comm_manager = IPython.notebook.kernel.comm_manager;\n",
              "\");\n",
              "  notebook.kernel.execute(\"var rate_limiter = function(comm, msg){\n",
              "\"\n",
              "                          \"    var handler = function(msg){\n",
              "\"\n",
              "                          \"        var raw_msg = msg.msg_content.content.data;\n",
              "\"\n",
              "                          \"        var data = new DataView(raw_msg.buffer);\n",
              "\"\n",
              "                          \"        var rate_start_time = data.getFloat64(0, true);\n",
              "\"\n",
              "                          \"        var rate_end_time = data.getFloat64(8, true);\n",
              "\"\n",
              "                          \"        var data_length = raw_msg.length - 16;\n",
              "\"\n",
              "                          \"        var rate = (data_length / (rate_end_time - rate_start_time));\n",
              "\"\n",
              "                          \"        if (rate > rate_limit){\n",
              "\"\n",
              "                          \"            comm.kernel.execute('IPython.get_ipython().kernel.do_one_iteration = function(){ return 0; }');\n",
              "\"\n",
              "                          \"            comm.kernel.execute('IPython.get_ipython().kernel._allow_stdin = true');\n",
              "\"\n",
              "                          \"        }\n",
              "\"\n",
              "                          \"        else{\n",
              "\"\n",
              "                          \"            comm.kernel.execute('IPython.get_ipython().kernel.do_one_iteration = undefined;');\n",
              "\"\n",
              "                          \"            comm.kernel.execute('IPython.get_ipython().kernel._allow_stdin = false');\n",
              "\"\n",
              "                          \"        }\n",
              "\"\n",
              "                          \"    }\n",
              "\"\n",
              "                          \"    comm.on_msg(handler);\n",
              "\"\n",
              "                          \"};\n",
              "\"\n",
              "                          \"comm_manager.register_target('rate_limiter', rate_limiter);\n",
              "\");\n",
              "}\n",
              "\n",
              "setNotebookOptions();\n",
              "</script>\n"
            ]
          },
          "metadata": {}
        }
      ]
    },
    {
      "cell_type": "code",
      "source": [
        "import requests\n",
        "import pandas as pd\n",
        "\n",
        "# API URL\n",
        "api_url = \"https://api.binance.com/api/v3/ticker/24hr\"\n",
        "\n",
        "# Define the parameters for the request (optional)\n",
        "params = {\n",
        "    # Add any parameters you need here\n",
        "}\n",
        "\n",
        "# Send a GET request to the API with optional parameters\n",
        "response = requests.get(api_url, params=params)\n",
        "print(response.content)\n",
        "\n",
        "# Check if the request was successful (status code 200)\n",
        "if response.status_code == 200:\n",
        "    try:\n",
        "        # Attempt to parse the JSON response\n",
        "        data = response.json()\n",
        "\n",
        "        # Convert the data to a DataFrame\n",
        "        df = pd.DataFrame(data)\n",
        "\n",
        "        # Print available columns to the user\n",
        "        available_columns = df.columns.tolist()\n",
        "        print(\"Available columns:\", available_columns)\n",
        "\n",
        "        # Ask the user for column selection\n",
        "        user_input = input(\"Enter columns to keep (comma-separated): \")\n",
        "        selected_columns = [col.strip() for col in user_input.split(\",\")]\n",
        "\n",
        "        # Validate user input and select columns\n",
        "        columns_to_keep = [col for col in selected_columns if col in available_columns]\n",
        "        if columns_to_keep:\n",
        "            df = df[columns_to_keep]\n",
        "\n",
        "            # Save the DataFrame to a CSV file\n",
        "            df.to_csv(\"binance_data.csv\", index=False)\n",
        "\n",
        "            print(\"CSV file 'binance_data.csv' created successfully.\")\n",
        "        else:\n",
        "            print(\"No valid columns selected.\")\n",
        "    except ValueError as e:\n",
        "        print(f\"Error: Unable to parse JSON response. {e}\")\n",
        "else:\n",
        "    print(f\"Error: Unable to fetch data from the API. Status code: {response.status_code}\")\n"
      ],
      "metadata": {
        "colab": {
          "base_uri": "https://localhost:8080/"
        },
        "id": "Jh2pM_E0mNOX",
        "outputId": "5f585d51-2ff3-4bf2-ab9a-88d0c4ff4db4"
      },
      "execution_count": 11,
      "outputs": [
        {
          "output_type": "stream",
          "name": "stdout",
          "text": [
            "b'{\\n  \"code\": 0,\\n  \"msg\": \"Service unavailable from a restricted location according to \\'b. Eligibility\\' in https://www.binance.com/en/terms. Please contact customer service if you believe you received this message in error.\"\\n}'\n",
            "Error: Unable to fetch data from the API. Status code: 451\n"
          ]
        }
      ]
    }
  ]
}